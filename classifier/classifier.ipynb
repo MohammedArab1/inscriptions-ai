{
 "cells": [
  {
   "cell_type": "markdown",
   "id": "edb78aa5-f49a-440f-ad03-fc82b41bc3b1",
   "metadata": {},
   "source": [
    "# Classifier\n",
    "This model is meant to classify between Safaitic and other inscription types"
   ]
  },
  {
   "cell_type": "markdown",
   "id": "7c9f33c0-65ad-40ae-bcab-0e0085e7c4f2",
   "metadata": {},
   "source": [
    "First we import the necessary dependencies"
   ]
  },
  {
   "cell_type": "code",
   "execution_count": 14,
   "id": "b5aa4a6f-2ec3-45e1-ae98-b6fee1b83655",
   "metadata": {},
   "outputs": [],
   "source": [
    "from tensorflow.keras.preprocessing.image import ImageDataGenerator\n",
    "from tensorflow.keras.optimizers import RMSprop\n",
    "from tensorflow.keras.applications.inception_v3 import InceptionV3\n",
    "from tensorflow.keras.models import Model\n",
    "from tensorflow.keras import layers\n",
    "from tensorflow.keras.preprocessing import image\n",
    "import tensorflow as tf\n",
    "import numpy as np\n"
   ]
  },
  {
   "cell_type": "markdown",
   "id": "53343160-cc6a-48d3-be59-b0ddcd2aeb8e",
   "metadata": {},
   "source": [
    "Then we create the training and the validation data generators"
   ]
  },
  {
   "cell_type": "code",
   "execution_count": 6,
   "id": "95171ade-2b41-4963-b0e0-af73c28eab4a",
   "metadata": {},
   "outputs": [
    {
     "name": "stdout",
     "output_type": "stream",
     "text": [
      "Found 590 images belonging to 2 classes.\n",
      "Found 44 images belonging to 2 classes.\n"
     ]
    }
   ],
   "source": [
    "# create the trainng data generator\n",
    "train_datagen = ImageDataGenerator(rescale=1./255,\n",
    "    rotation_range=40,\n",
    "    width_shift_range=0.2,\n",
    "    height_shift_range=0.2,\n",
    "    shear_range=0.2,\n",
    "    zoom_range=0.2,\n",
    "    horizontal_flip=True,\n",
    "    fill_mode='nearest')\n",
    "\n",
    "train_generator = train_datagen.flow_from_directory(\n",
    "    'data/allScripts/train',\n",
    "    target_size=(150, 150),\n",
    "    class_mode='binary'\n",
    ")\n",
    "\n",
    "# create validation data generator\n",
    "validation_datagen = ImageDataGenerator(rescale=1./255)\n",
    "validation_generator = validation_datagen.flow_from_directory(\n",
    "    'data/allScripts/validation',\n",
    "    target_size=(150, 150),\n",
    "    class_mode='binary'\n",
    ")"
   ]
  },
  {
   "cell_type": "markdown",
   "id": "7de160b0-0da6-4445-bd96-9cfd2f877c1e",
   "metadata": {},
   "source": [
    "Then we want to create the neural network and model. For this model, we will extend layers of an existing model (InceptionV3)"
   ]
  },
  {
   "cell_type": "code",
   "execution_count": 8,
   "id": "0b46e62b-4737-4450-874c-4862bcb5bef6",
   "metadata": {},
   "outputs": [],
   "source": [
    "# Download the pre trained model\n",
    "pre_trained_model = InceptionV3(input_shape=(150,150,3),weights='imagenet', include_top=False)\n",
    "\n",
    "# Go through each layer in the pre-trained model and set as non-trainable (so that when we train our model, we don't update the existing weights)\n",
    "for layer in pre_trained_model.layers:\n",
    "    layer.trainable = False\n",
    "\n",
    "# Find the last layer you'd like to use, and grab the output\n",
    "last_layer = pre_trained_model.get_layer('mixed7')\n",
    "last_output = last_layer.output\n",
    "\n",
    "# Add your custom layers under the chosen lasy layer\n",
    "x = layers.Flatten()(last_output)\n",
    "x = layers.Dense(1024, activation='relu')(x)\n",
    "x = layers.Dense(1, activation='sigmoid')(x)\n",
    "\n",
    "# Create the model\n",
    "model = Model(pre_trained_model.input, x)\n",
    "\n",
    "# Compile the model\n",
    "model.compile(optimizer=RMSprop(learning_rate=0.001),\n",
    "              loss='binary_crossentropy',\n",
    "              metrics=['accuracy'])"
   ]
  },
  {
   "cell_type": "markdown",
   "id": "d4e5d345-a6df-4d13-ac0f-500dbaf6bb36",
   "metadata": {},
   "source": [
    "We can then train the model:"
   ]
  },
  {
   "cell_type": "code",
   "execution_count": 9,
   "id": "bbbb0690-99bf-4606-9a08-a9085cea7bc8",
   "metadata": {},
   "outputs": [
    {
     "name": "stderr",
     "output_type": "stream",
     "text": [
      "C:\\Users\\moham\\Desktop\\Programming\\machineLearning\\inscriptions-ai\\venv\\Lib\\site-packages\\keras\\src\\trainers\\data_adapters\\py_dataset_adapter.py:121: UserWarning: Your `PyDataset` class should call `super().__init__(**kwargs)` in its constructor. `**kwargs` can include `workers`, `use_multiprocessing`, `max_queue_size`. Do not pass these arguments to `fit()`, as they will be ignored.\n",
      "  self._warn_if_super_not_called()\n"
     ]
    },
    {
     "name": "stdout",
     "output_type": "stream",
     "text": [
      "Epoch 1/15\n",
      "\u001b[1m19/19\u001b[0m \u001b[32m━━━━━━━━━━━━━━━━━━━━\u001b[0m\u001b[37m\u001b[0m \u001b[1m0s\u001b[0m 430ms/step - accuracy: 0.6053 - loss: 8.7002"
     ]
    },
    {
     "name": "stderr",
     "output_type": "stream",
     "text": [
      "C:\\Users\\moham\\Desktop\\Programming\\machineLearning\\inscriptions-ai\\venv\\Lib\\site-packages\\keras\\src\\trainers\\data_adapters\\py_dataset_adapter.py:121: UserWarning: Your `PyDataset` class should call `super().__init__(**kwargs)` in its constructor. `**kwargs` can include `workers`, `use_multiprocessing`, `max_queue_size`. Do not pass these arguments to `fit()`, as they will be ignored.\n",
      "  self._warn_if_super_not_called()\n"
     ]
    },
    {
     "name": "stdout",
     "output_type": "stream",
     "text": [
      "\u001b[1m19/19\u001b[0m \u001b[32m━━━━━━━━━━━━━━━━━━━━\u001b[0m\u001b[37m\u001b[0m \u001b[1m13s\u001b[0m 531ms/step - accuracy: 0.6847 - loss: 4.3031 - val_accuracy: 0.8182 - val_loss: 0.4630\n",
      "Epoch 2/15\n",
      "\u001b[1m19/19\u001b[0m \u001b[32m━━━━━━━━━━━━━━━━━━━━\u001b[0m\u001b[37m\u001b[0m \u001b[1m9s\u001b[0m 479ms/step - accuracy: 0.7881 - loss: 0.5840 - val_accuracy: 0.8409 - val_loss: 0.3292\n",
      "Epoch 3/15\n",
      "\u001b[1m19/19\u001b[0m \u001b[32m━━━━━━━━━━━━━━━━━━━━\u001b[0m\u001b[37m\u001b[0m \u001b[1m8s\u001b[0m 441ms/step - accuracy: 0.8169 - loss: 0.4694 - val_accuracy: 0.5682 - val_loss: 1.1187\n",
      "Epoch 4/15\n",
      "\u001b[1m19/19\u001b[0m \u001b[32m━━━━━━━━━━━━━━━━━━━━\u001b[0m\u001b[37m\u001b[0m \u001b[1m9s\u001b[0m 445ms/step - accuracy: 0.8508 - loss: 0.3891 - val_accuracy: 0.9091 - val_loss: 0.2086\n",
      "Epoch 5/15\n",
      "\u001b[1m19/19\u001b[0m \u001b[32m━━━━━━━━━━━━━━━━━━━━\u001b[0m\u001b[37m\u001b[0m \u001b[1m9s\u001b[0m 445ms/step - accuracy: 0.9034 - loss: 0.2894 - val_accuracy: 0.8182 - val_loss: 0.3651\n",
      "Epoch 6/15\n",
      "\u001b[1m19/19\u001b[0m \u001b[32m━━━━━━━━━━━━━━━━━━━━\u001b[0m\u001b[37m\u001b[0m \u001b[1m8s\u001b[0m 435ms/step - accuracy: 0.8780 - loss: 0.2894 - val_accuracy: 0.9091 - val_loss: 0.2764\n",
      "Epoch 7/15\n",
      "\u001b[1m19/19\u001b[0m \u001b[32m━━━━━━━━━━━━━━━━━━━━\u001b[0m\u001b[37m\u001b[0m \u001b[1m8s\u001b[0m 441ms/step - accuracy: 0.8966 - loss: 0.2338 - val_accuracy: 0.7500 - val_loss: 0.5786\n",
      "Epoch 8/15\n",
      "\u001b[1m19/19\u001b[0m \u001b[32m━━━━━━━━━━━━━━━━━━━━\u001b[0m\u001b[37m\u001b[0m \u001b[1m8s\u001b[0m 440ms/step - accuracy: 0.8746 - loss: 0.2849 - val_accuracy: 0.7955 - val_loss: 0.4408\n",
      "Epoch 9/15\n",
      "\u001b[1m19/19\u001b[0m \u001b[32m━━━━━━━━━━━━━━━━━━━━\u001b[0m\u001b[37m\u001b[0m \u001b[1m9s\u001b[0m 451ms/step - accuracy: 0.9237 - loss: 0.1765 - val_accuracy: 0.9091 - val_loss: 0.1843\n",
      "Epoch 10/15\n",
      "\u001b[1m19/19\u001b[0m \u001b[32m━━━━━━━━━━━━━━━━━━━━\u001b[0m\u001b[37m\u001b[0m \u001b[1m8s\u001b[0m 445ms/step - accuracy: 0.9000 - loss: 0.2557 - val_accuracy: 0.8182 - val_loss: 0.3613\n",
      "Epoch 11/15\n",
      "\u001b[1m19/19\u001b[0m \u001b[32m━━━━━━━━━━━━━━━━━━━━\u001b[0m\u001b[37m\u001b[0m \u001b[1m8s\u001b[0m 440ms/step - accuracy: 0.9424 - loss: 0.1524 - val_accuracy: 0.9773 - val_loss: 0.1170\n",
      "Epoch 12/15\n",
      "\u001b[1m19/19\u001b[0m \u001b[32m━━━━━━━━━━━━━━━━━━━━\u001b[0m\u001b[37m\u001b[0m \u001b[1m10s\u001b[0m 549ms/step - accuracy: 0.9153 - loss: 0.2192 - val_accuracy: 0.9773 - val_loss: 0.1505\n",
      "Epoch 13/15\n",
      "\u001b[1m19/19\u001b[0m \u001b[32m━━━━━━━━━━━━━━━━━━━━\u001b[0m\u001b[37m\u001b[0m \u001b[1m10s\u001b[0m 520ms/step - accuracy: 0.9203 - loss: 0.2020 - val_accuracy: 0.8182 - val_loss: 0.2765\n",
      "Epoch 14/15\n",
      "\u001b[1m19/19\u001b[0m \u001b[32m━━━━━━━━━━━━━━━━━━━━\u001b[0m\u001b[37m\u001b[0m \u001b[1m9s\u001b[0m 447ms/step - accuracy: 0.9407 - loss: 0.1703 - val_accuracy: 0.8864 - val_loss: 0.2406\n",
      "Epoch 15/15\n",
      "\u001b[1m19/19\u001b[0m \u001b[32m━━━━━━━━━━━━━━━━━━━━\u001b[0m\u001b[37m\u001b[0m \u001b[1m9s\u001b[0m 457ms/step - accuracy: 0.9220 - loss: 0.1784 - val_accuracy: 0.8636 - val_loss: 0.2301\n"
     ]
    }
   ],
   "source": [
    "history = model.fit(\n",
    "    train_generator,\n",
    "    epochs=15,\n",
    "    validation_data=validation_generator\n",
    ")"
   ]
  },
  {
   "cell_type": "markdown",
   "id": "9b3bed1d-df31-426b-92de-f94f3a5fbdcb",
   "metadata": {},
   "source": [
    "We can now test the model"
   ]
  },
  {
   "cell_type": "code",
   "execution_count": 18,
   "id": "459c2faf-f36a-4f33-a2ec-1543ea9e296b",
   "metadata": {},
   "outputs": [
    {
     "name": "stdout",
     "output_type": "stream",
     "text": [
      "\u001b[1m1/1\u001b[0m \u001b[32m━━━━━━━━━━━━━━━━━━━━\u001b[0m\u001b[37m\u001b[0m \u001b[1m0s\u001b[0m 44ms/step\n",
      "{'other': 0, 'safaitic': 1}\n",
      "[[0.]]\n",
      "[0.]\n"
     ]
    }
   ],
   "source": [
    "# Load and resize to the same size used in training (150x150 here)\n",
    "img = image.load_img(\"classifier/test.jpg\", target_size=(150, 150))\n",
    "\n",
    "# Convert to array\n",
    "img_array = image.img_to_array(img)\n",
    "\n",
    "# Rescale (because you used rescale=1./255 in your generators)\n",
    "# img_array = img_array / 255.0\n",
    "\n",
    "# Add batch dimension (model expects shape: (batch_size, height, width, channels))\n",
    "img_array = np.expand_dims(img_array, axis=0)\n",
    "\n",
    "\n",
    "image_tensor = np.vstack([img_array])\n",
    "classes = model.predict(image_tensor)\n",
    "print(train_generator.class_indices)\n",
    "print(classes)\n",
    "print(classes[0])"
   ]
  }
 ],
 "metadata": {
  "kernelspec": {
   "display_name": "Python 3 (ipykernel)",
   "language": "python",
   "name": "python3"
  },
  "language_info": {
   "codemirror_mode": {
    "name": "ipython",
    "version": 3
   },
   "file_extension": ".py",
   "mimetype": "text/x-python",
   "name": "python",
   "nbconvert_exporter": "python",
   "pygments_lexer": "ipython3",
   "version": "3.11.0"
  }
 },
 "nbformat": 4,
 "nbformat_minor": 5
}
